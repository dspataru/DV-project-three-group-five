{
 "cells": [
  {
   "cell_type": "markdown",
   "id": "e5db516c",
   "metadata": {},
   "source": [
    "## Import CSV files from analysis script to MongoDB"
   ]
  },
  {
   "cell_type": "code",
   "execution_count": 50,
   "id": "7210d3e5",
   "metadata": {},
   "outputs": [],
   "source": [
    "# Import dependencies\n",
    "from pymongo import MongoClient\n",
    "from pprint import pprint\n",
    "import pandas as pd\n",
    "import json"
   ]
  },
  {
   "cell_type": "code",
   "execution_count": 51,
   "id": "dee755d4",
   "metadata": {},
   "outputs": [],
   "source": [
    "# Create an instance of MongoClient\n",
    "mongo = MongoClient(port=27017)\n",
    "\n",
    "# confirm that our new database was created\n",
    "db = mongo.portfolios_db"
   ]
  },
  {
   "cell_type": "code",
   "execution_count": 52,
   "id": "fbed6ed3",
   "metadata": {},
   "outputs": [
    {
     "name": "stdout",
     "output_type": "stream",
     "text": [
      "['balanced_portfolio_data', 'spy_price_info', 'portfolio_weights', 'vgk_price_info', 'bond_price_info', 'sche_price_info', 'etf_additional_info', 'conservative_portfolio_data', 'growth_portfolio_data', 'etf_return_risk', 'vong_price_info']\n"
     ]
    }
   ],
   "source": [
    "# reviewing collections in our db\n",
    "print(db.list_collection_names())\n"
   ]
  },
  {
   "cell_type": "code",
   "execution_count": 53,
   "id": "99ee02a5",
   "metadata": {},
   "outputs": [],
   "source": [
    "# assign each collection to a variable\n",
    "etf_list = ['bond','spy','vgk','sche','vong']\n",
    "portfolio_list = ['conservative', 'balanced', 'growth']\n",
    "\n",
    "portfolio_data = {}\n",
    "for portfolio in portfolio_list:\n",
    "    portfolio_data[portfolio] = db[f\"{portfolio}_portfolio_data\"]\n",
    "    \n",
    "price_info = {}\n",
    "for etf in etf_list:\n",
    "    price_info[etf] = db[f\"{etf}_price_info\"]\n",
    "    \n",
    "etf_return_risk = db[\"etf_return_risk\"]\n",
    "etf_additional_info = db['etf_additional_info']\n",
    "portfolio_weights = db['portfolio_weights']"
   ]
  },
  {
   "cell_type": "code",
   "execution_count": 54,
   "id": "820c6ef3",
   "metadata": {},
   "outputs": [
    {
     "data": {
      "text/plain": [
       "{'_id': ObjectId('651b4fadaaf56e8d594f97ab'),\n",
       " 'portfolio': 'growth',\n",
       " 'BOND': 0.17,\n",
       " 'SPY': 0.36,\n",
       " 'VGK': 0.15,\n",
       " 'SCHE': 0.08,\n",
       " 'VONG': 0.24}"
      ]
     },
     "execution_count": 54,
     "metadata": {},
     "output_type": "execute_result"
    }
   ],
   "source": [
    "portfolio_weights.find({'portfolio':portfolio})[0]\n"
   ]
  },
  {
   "cell_type": "markdown",
   "id": "20384bcb",
   "metadata": {},
   "source": [
    "## Creating Flask APIs"
   ]
  },
  {
   "cell_type": "code",
   "execution_count": 40,
   "id": "0a7a8932",
   "metadata": {},
   "outputs": [],
   "source": [
    "# import flask\n",
    "from flask import Flask, jsonify\n",
    "\n",
    "# creating an app\n",
    "app = Flask(__name__)"
   ]
  },
  {
   "cell_type": "code",
   "execution_count": 46,
   "id": "17d3024c",
   "metadata": {},
   "outputs": [],
   "source": [
    "# flask routes\n",
    "@app.route(\"/api/portfolio_weights/<portfolio>\")\n",
    "def portfolio_weights(portfolio):\n",
    "    \"\"\"Return the ETF allocation for each portfolio\"\"\"\n",
    "    weights = portfolio_weights.find({'portfolio':portfolio})[0]\n",
    "    return jsonify(weights)\n"
   ]
  },
  {
   "cell_type": "code",
   "execution_count": null,
   "id": "da299696",
   "metadata": {},
   "outputs": [],
   "source": [
    "if __name__ == \"__main__\":\n",
    "    app.run(debug=True)"
   ]
  }
 ],
 "metadata": {
  "kernelspec": {
   "display_name": "Python 3 (ipykernel)",
   "language": "python",
   "name": "python3"
  },
  "language_info": {
   "codemirror_mode": {
    "name": "ipython",
    "version": 3
   },
   "file_extension": ".py",
   "mimetype": "text/x-python",
   "name": "python",
   "nbconvert_exporter": "python",
   "pygments_lexer": "ipython3",
   "version": "3.10.11"
  }
 },
 "nbformat": 4,
 "nbformat_minor": 5
}
