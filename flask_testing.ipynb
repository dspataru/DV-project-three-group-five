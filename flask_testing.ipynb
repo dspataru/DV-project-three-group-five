{
 "cells": [
  {
   "cell_type": "markdown",
   "id": "17ba4ab5",
   "metadata": {},
   "source": [
    "## Import CSV files from analysis script to MongoDB"
   ]
  },
  {
   "cell_type": "code",
   "execution_count": 118,
   "id": "d0a54f6d",
   "metadata": {},
   "outputs": [],
   "source": [
    "# Import dependencies\n",
    "from pymongo import MongoClient\n",
    "from pprint import pprint\n",
    "import pandas as pd\n",
    "import json"
   ]
  },
  {
   "cell_type": "code",
   "execution_count": 119,
   "id": "2398b01d",
   "metadata": {},
   "outputs": [],
   "source": [
    "# Create an instance of MongoClient\n",
    "mongo = MongoClient(port=27017)\n",
    "\n",
    "# confirm that our new database was created\n",
    "db = mongo.portfolios_db"
   ]
  },
  {
   "cell_type": "code",
   "execution_count": 120,
   "id": "850310ca",
   "metadata": {},
   "outputs": [
    {
     "name": "stdout",
     "output_type": "stream",
     "text": [
      "['balanced_portfolio_data', 'spy_price_info', 'portfolio_weights', 'vgk_price_info', 'bond_price_info', 'sche_price_info', 'etf_additional_info', 'conservative_portfolio_data', 'growth_portfolio_data', 'etf_return_risk', 'vong_price_info']\n"
     ]
    }
   ],
   "source": [
    "# reviewing collections in our db\n",
    "print(db.list_collection_names())\n"
   ]
  },
  {
   "cell_type": "code",
   "execution_count": 121,
   "id": "c12485bb",
   "metadata": {},
   "outputs": [],
   "source": [
    "# assign each collection to a variable\n",
    "etf_list = ['bond','spy','vgk','sche','vong']\n",
    "portfolio_list = ['conservative', 'balanced', 'growth']\n",
    "\n",
    "portfolio_data = {}\n",
    "for portfolio in portfolio_list:\n",
    "    portfolio_data[portfolio] = db[f\"{portfolio}_portfolio_data\"]\n",
    "    \n",
    "price_info = {}\n",
    "for etf in etf_list:\n",
    "    price_info[etf] = db[f\"{etf}_price_info\"]\n",
    "    \n",
    "etf_return_risk = db[\"etf_return_risk\"]\n",
    "etf_additional_info = db['etf_additional_info']\n",
    "portfolio_weights = db['portfolio_weights']"
   ]
  },
  {
   "cell_type": "code",
   "execution_count": 138,
   "id": "d9fccff2",
   "metadata": {},
   "outputs": [
    {
     "name": "stdout",
     "output_type": "stream",
     "text": [
      "{'BOND': 0.63, 'SCHE': 0.0, 'SPY': 0.31, 'VGK': 0.02, 'VONG': 0.04, 'portfolio': 'conservative'}\n"
     ]
    }
   ],
   "source": [
    "import requests\n",
    "\n",
    "url = \"https://gayatrijohn3-d498f365-c54e-4381-857d-9f4ac180634e.socketxp.com/api/portfolio_weights/conservative\"\n",
    "\n",
    "try:\n",
    "    response = requests.get(url)\n",
    "\n",
    "    # Check if the response status code is 200 (OK)\n",
    "    if response.status_code == 200:\n",
    "        data = response.json()  # Parse the JSON response\n",
    "        print(data)\n",
    "    else:\n",
    "        print(\"Failed to fetch data. Status code:\", response.status_code)\n",
    "\n",
    "except requests.exceptions.RequestException as e:\n",
    "    print(\"Request Error:\", e)\n"
   ]
  },
  {
   "cell_type": "code",
   "execution_count": 140,
   "id": "4562766f",
   "metadata": {},
   "outputs": [
    {
     "name": "stdout",
     "output_type": "stream",
     "text": [
      "{'Beta (5Y Monthly)': 1, 'Expense Ratio (net)': '0.09%', 'Inception Date': '1993-01-22', 'NAV': 427.34, 'Net Assets': '412.8B', 'PE Ratio (TTM)': 21.22, 'YTD Daily Total Return': '12.99%', 'Yield': '1.45%', 'ticker': 'SPY'}\n"
     ]
    }
   ],
   "source": [
    "url = \"https://gayatrijohn3-d498f365-c54e-4381-857d-9f4ac180634e.socketxp.com/api/additional_info/spy\"\n",
    "\n",
    "try:\n",
    "    response = requests.get(url)\n",
    "\n",
    "    # Check if the response status code is 200 (OK)\n",
    "    if response.status_code == 200:\n",
    "        data = response.json()  # Parse the JSON response\n",
    "        print(data)\n",
    "    else:\n",
    "        print(\"Failed to fetch data. Status code:\", response.status_code)\n",
    "\n",
    "except requests.exceptions.RequestException as e:\n",
    "    print(\"Request Error:\", e)\n"
   ]
  },
  {
   "cell_type": "code",
   "execution_count": 94,
   "id": "d4f205d2",
   "metadata": {},
   "outputs": [
    {
     "ename": "IndexError",
     "evalue": "no such item for Cursor instance",
     "output_type": "error",
     "traceback": [
      "\u001b[1;31m---------------------------------------------------------------------------\u001b[0m",
      "\u001b[1;31mIndexError\u001b[0m                                Traceback (most recent call last)",
      "Cell \u001b[1;32mIn[94], line 1\u001b[0m\n\u001b[1;32m----> 1\u001b[0m \u001b[43mportfolio_weights\u001b[49m\u001b[38;5;241;43m.\u001b[39;49m\u001b[43mfind\u001b[49m\u001b[43m(\u001b[49m\u001b[43m{\u001b[49m\u001b[38;5;124;43m'\u001b[39;49m\u001b[38;5;124;43mportfolio\u001b[39;49m\u001b[38;5;124;43m'\u001b[39;49m\u001b[43m:\u001b[49m\u001b[38;5;124;43m'\u001b[39;49m\u001b[38;5;124;43mgrow\u001b[39;49m\u001b[38;5;124;43m'\u001b[39;49m\u001b[43m}\u001b[49m\u001b[43m)\u001b[49m\u001b[43m[\u001b[49m\u001b[38;5;241;43m0\u001b[39;49m\u001b[43m]\u001b[49m\n",
      "File \u001b[1;32m~\\anaconda3\\envs\\dev\\lib\\site-packages\\pymongo\\cursor.py:769\u001b[0m, in \u001b[0;36mCursor.__getitem__\u001b[1;34m(self, index)\u001b[0m\n\u001b[0;32m    767\u001b[0m     \u001b[38;5;28;01mfor\u001b[39;00m doc \u001b[38;5;129;01min\u001b[39;00m clone:\n\u001b[0;32m    768\u001b[0m         \u001b[38;5;28;01mreturn\u001b[39;00m doc\n\u001b[1;32m--> 769\u001b[0m     \u001b[38;5;28;01mraise\u001b[39;00m \u001b[38;5;167;01mIndexError\u001b[39;00m(\u001b[38;5;124m\"\u001b[39m\u001b[38;5;124mno such item for Cursor instance\u001b[39m\u001b[38;5;124m\"\u001b[39m)\n\u001b[0;32m    770\u001b[0m \u001b[38;5;28;01mraise\u001b[39;00m \u001b[38;5;167;01mTypeError\u001b[39;00m(\u001b[38;5;124m\"\u001b[39m\u001b[38;5;124mindex \u001b[39m\u001b[38;5;132;01m%r\u001b[39;00m\u001b[38;5;124m cannot be applied to Cursor instances\u001b[39m\u001b[38;5;124m\"\u001b[39m \u001b[38;5;241m%\u001b[39m index)\n",
      "\u001b[1;31mIndexError\u001b[0m: no such item for Cursor instance"
     ]
    }
   ],
   "source": [
    "portfolio_weights.find({'portfolio':'grow'})[0]\n"
   ]
  },
  {
   "cell_type": "code",
   "execution_count": 115,
   "id": "e2d85da1",
   "metadata": {},
   "outputs": [
    {
     "data": {
      "text/plain": [
       "{'_id': ObjectId('651b41861d2350e5581024cd'),\n",
       " 'date': '2020-03-03',\n",
       " 'BOND_value': 630000.0,\n",
       " 'SPY_value': 310000.0,\n",
       " 'VGK_value': 20000.0,\n",
       " 'SCHE_value': 0.0,\n",
       " 'VONG_value': 40000.0,\n",
       " 'conservative_portfolio_value': 1000000.0,\n",
       " 'conservative_portfolio_return': ''}"
      ]
     },
     "execution_count": 115,
     "metadata": {},
     "output_type": "execute_result"
    }
   ],
   "source": [
    "portfolio_data['conservative'].find_one()"
   ]
  },
  {
   "cell_type": "code",
   "execution_count": 122,
   "id": "fee9e64c",
   "metadata": {},
   "outputs": [
    {
     "name": "stdout",
     "output_type": "stream",
     "text": [
      "hello\n"
     ]
    }
   ],
   "source": [
    "portfolio_data_obj=[]\n",
    "portfolio_data_obj = portfolio_data['conservative'].find({\"date\" :{'$gte': '2024-01-01'}}, {\"_id\": 0})\n",
    "portfolio_data = []\n",
    "for data in portfolio_data_obj:\n",
    "    portfolio_data.append(data)\n",
    "\n",
    "portfolio_data\n",
    "\n",
    "if not portfolio_data:\n",
    "    print('hello')"
   ]
  },
  {
   "cell_type": "code",
   "execution_count": 123,
   "id": "4a599071",
   "metadata": {},
   "outputs": [
    {
     "data": {
      "text/plain": [
       "{'_id': ObjectId('651b41190393ea0e4d1ac5bd'),\n",
       " 'ticker': 'SPY',\n",
       " 'annualized_return': 13.533748178831294,\n",
       " 'annualized_risk': 18.838762611335284}"
      ]
     },
     "execution_count": 123,
     "metadata": {},
     "output_type": "execute_result"
    }
   ],
   "source": [
    "etf_return_risk.find_one()"
   ]
  },
  {
   "cell_type": "code",
   "execution_count": 124,
   "id": "f5c29b26",
   "metadata": {},
   "outputs": [
    {
     "data": {
      "text/plain": [
       "{'_id': ObjectId('651b40bb2fad203c693c9fdb'),\n",
       " 'date': '2012-03-02',\n",
       " 'ticker_symbol': 'BOND',\n",
       " 'close_price': 69.96632385253906,\n",
       " 'dividend': 0.0,\n",
       " 'trading_volume': 331600,\n",
       " 'daily_return': 0.35015106755096337,\n",
       " 'dividend_return': 0.0,\n",
       " 'total_return': 0.35015106755096337}"
      ]
     },
     "execution_count": 124,
     "metadata": {},
     "output_type": "execute_result"
    }
   ],
   "source": [
    "price_info['bond'].find_one()"
   ]
  },
  {
   "cell_type": "code",
   "execution_count": 110,
   "id": "bb05d63c",
   "metadata": {},
   "outputs": [
    {
     "data": {
      "text/plain": [
       "datetime.datetime(2020, 1, 1, 0, 0)"
      ]
     },
     "execution_count": 110,
     "metadata": {},
     "output_type": "execute_result"
    }
   ],
   "source": [
    "x = '2020-01-01'\n",
    "from datetime import datetime\n",
    "y = datetime.strptime(x, '%Y-%m-%d')\n",
    "y"
   ]
  },
  {
   "cell_type": "code",
   "execution_count": 127,
   "id": "223bd3c7",
   "metadata": {},
   "outputs": [
    {
     "data": {
      "text/plain": [
       "{'_id': ObjectId('651c37af2d3cbbbcddd03506'),\n",
       " 'ticker': 'BOND',\n",
       " 'Net Assets': '3.68B',\n",
       " 'NAV': 87.02,\n",
       " 'PE Ratio (TTM)': 1.53,\n",
       " 'Yield': '3.84%',\n",
       " 'YTD Daily Total Return': '-0.79%',\n",
       " 'Beta (5Y Monthly)': 1.01,\n",
       " 'Expense Ratio (net)': '0.56%',\n",
       " 'Inception Date': '2012-02-29'}"
      ]
     },
     "execution_count": 127,
     "metadata": {},
     "output_type": "execute_result"
    }
   ],
   "source": [
    "etf_additional_info.find_one()"
   ]
  },
  {
   "cell_type": "code",
   "execution_count": 137,
   "id": "4fbdfb25",
   "metadata": {},
   "outputs": [
    {
     "ename": "IndexError",
     "evalue": "no such item for Cursor instance",
     "output_type": "error",
     "traceback": [
      "\u001b[1;31m---------------------------------------------------------------------------\u001b[0m",
      "\u001b[1;31mIndexError\u001b[0m                                Traceback (most recent call last)",
      "Cell \u001b[1;32mIn[137], line 2\u001b[0m\n\u001b[0;32m      1\u001b[0m start_date \u001b[38;5;241m=\u001b[39m \u001b[38;5;124m'\u001b[39m\u001b[38;5;124m2020-01-01\u001b[39m\u001b[38;5;124m'\u001b[39m\n\u001b[1;32m----> 2\u001b[0m \u001b[43mprice_info\u001b[49m\u001b[43m[\u001b[49m\u001b[38;5;124;43m'\u001b[39;49m\u001b[38;5;124;43mbond\u001b[39;49m\u001b[38;5;124;43m'\u001b[39;49m\u001b[43m]\u001b[49m\u001b[38;5;241;43m.\u001b[39;49m\u001b[43mfind\u001b[49m\u001b[43m(\u001b[49m\u001b[43m{\u001b[49m\u001b[38;5;124;43m\"\u001b[39;49m\u001b[38;5;124;43mdate\u001b[39;49m\u001b[38;5;124;43m\"\u001b[39;49m\u001b[43m \u001b[49m\u001b[43m:\u001b[49m\u001b[43m{\u001b[49m\u001b[38;5;124;43m'\u001b[39;49m\u001b[38;5;124;43m$gte\u001b[39;49m\u001b[38;5;124;43m'\u001b[39;49m\u001b[43m:\u001b[49m\u001b[43mdatetime\u001b[49m\u001b[43m(\u001b[49m\u001b[38;5;241;43m2023\u001b[39;49m\u001b[43m,\u001b[49m\u001b[43m \u001b[49m\u001b[38;5;241;43m1\u001b[39;49m\u001b[43m,\u001b[49m\u001b[43m \u001b[49m\u001b[38;5;241;43m1\u001b[39;49m\u001b[43m)\u001b[49m\u001b[43m}\u001b[49m\u001b[43m}\u001b[49m\u001b[43m,\u001b[49m\u001b[43m \u001b[49m\u001b[43m{\u001b[49m\u001b[38;5;124;43m\"\u001b[39;49m\u001b[38;5;124;43m_id\u001b[39;49m\u001b[38;5;124;43m\"\u001b[39;49m\u001b[43m:\u001b[49m\u001b[43m \u001b[49m\u001b[38;5;241;43m0\u001b[39;49m\u001b[43m}\u001b[49m\u001b[43m)\u001b[49m\u001b[43m[\u001b[49m\u001b[38;5;241;43m0\u001b[39;49m\u001b[43m]\u001b[49m\n",
      "File \u001b[1;32m~\\anaconda3\\envs\\dev\\lib\\site-packages\\pymongo\\cursor.py:769\u001b[0m, in \u001b[0;36mCursor.__getitem__\u001b[1;34m(self, index)\u001b[0m\n\u001b[0;32m    767\u001b[0m     \u001b[38;5;28;01mfor\u001b[39;00m doc \u001b[38;5;129;01min\u001b[39;00m clone:\n\u001b[0;32m    768\u001b[0m         \u001b[38;5;28;01mreturn\u001b[39;00m doc\n\u001b[1;32m--> 769\u001b[0m     \u001b[38;5;28;01mraise\u001b[39;00m \u001b[38;5;167;01mIndexError\u001b[39;00m(\u001b[38;5;124m\"\u001b[39m\u001b[38;5;124mno such item for Cursor instance\u001b[39m\u001b[38;5;124m\"\u001b[39m)\n\u001b[0;32m    770\u001b[0m \u001b[38;5;28;01mraise\u001b[39;00m \u001b[38;5;167;01mTypeError\u001b[39;00m(\u001b[38;5;124m\"\u001b[39m\u001b[38;5;124mindex \u001b[39m\u001b[38;5;132;01m%r\u001b[39;00m\u001b[38;5;124m cannot be applied to Cursor instances\u001b[39m\u001b[38;5;124m\"\u001b[39m \u001b[38;5;241m%\u001b[39m index)\n",
      "\u001b[1;31mIndexError\u001b[0m: no such item for Cursor instance"
     ]
    }
   ],
   "source": [
    "start_date = '2020-01-01'\n",
    "price_info['bond'].find({\"date\" :{'$gte':datetime(2023, 1, 1)}}, {\"_id\": 0})[0]\n"
   ]
  },
  {
   "cell_type": "markdown",
   "id": "878e43f9",
   "metadata": {},
   "source": [
    "## Creating Flask APIs"
   ]
  },
  {
   "cell_type": "code",
   "execution_count": 40,
   "id": "1498515a",
   "metadata": {},
   "outputs": [],
   "source": [
    "# import flask\n",
    "from flask import Flask, jsonify\n",
    "\n",
    "# creating an app\n",
    "app = Flask(__name__)"
   ]
  },
  {
   "cell_type": "code",
   "execution_count": 46,
   "id": "8e02ec9e",
   "metadata": {},
   "outputs": [],
   "source": [
    "# flask routes\n",
    "@app.route(\"/api/portfolio_weights/<portfolio>\")\n",
    "def portfolio_weights(portfolio):\n",
    "    \"\"\"Return the ETF allocation for each portfolio\"\"\"\n",
    "    weights = portfolio_weights.find({'portfolio':portfolio})[0]\n",
    "    return jsonify(weights)\n"
   ]
  },
  {
   "cell_type": "code",
   "execution_count": null,
   "id": "d3358902",
   "metadata": {},
   "outputs": [],
   "source": [
    "if __name__ == \"__main__\":\n",
    "    app.run(debug=True)"
   ]
  }
 ],
 "metadata": {
  "kernelspec": {
   "display_name": "Python 3 (ipykernel)",
   "language": "python",
   "name": "python3"
  },
  "language_info": {
   "codemirror_mode": {
    "name": "ipython",
    "version": 3
   },
   "file_extension": ".py",
   "mimetype": "text/x-python",
   "name": "python",
   "nbconvert_exporter": "python",
   "pygments_lexer": "ipython3",
   "version": "3.10.11"
  }
 },
 "nbformat": 4,
 "nbformat_minor": 5
}
