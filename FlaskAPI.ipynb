{
 "cells": [
  {
   "cell_type": "markdown",
   "id": "e9750c59",
   "metadata": {},
   "source": [
    "# FlaskAPI\n",
    "To interact with a MongoDB database from a JavaScript-based website using a Flask API"
   ]
  },
  {
   "cell_type": "code",
   "execution_count": 1,
   "id": "9b273408",
   "metadata": {},
   "outputs": [],
   "source": [
    "#Import dependencies\n",
    "from flask import Flask, request, jsonify\n",
    "from pymongo import MongoClient"
   ]
  },
  {
   "cell_type": "code",
   "execution_count": 2,
   "id": "6f1643b7",
   "metadata": {},
   "outputs": [],
   "source": [
    "# Flask App Initialization\n",
    "app = Flask(__name__)"
   ]
  },
  {
   "cell_type": "code",
   "execution_count": 3,
   "id": "a21dc0a0",
   "metadata": {},
   "outputs": [],
   "source": [
    "# MongoDB Connection\n",
    "client = MongoClient(\"mongodb://localhost:27017/\")\n",
    "db = client[\"StockAnalysis\"]"
   ]
  },
  {
   "cell_type": "code",
   "execution_count": 7,
   "id": "de866a34",
   "metadata": {},
   "outputs": [
    {
     "name": "stdout",
     "output_type": "stream",
     "text": [
      " * Serving Flask app '__main__'\n",
      " * Debug mode: on\n"
     ]
    },
    {
     "name": "stderr",
     "output_type": "stream",
     "text": [
      "WARNING: This is a development server. Do not use it in a production deployment. Use a production WSGI server instead.\n",
      " * Running on http://127.0.0.1:5000\n",
      "Press CTRL+C to quit\n",
      " * Restarting with watchdog (windowsapi)\n"
     ]
    },
    {
     "ename": "SystemExit",
     "evalue": "1",
     "output_type": "error",
     "traceback": [
      "An exception has occurred, use %tb to see the full traceback.\n",
      "\u001b[1;31mSystemExit\u001b[0m\u001b[1;31m:\u001b[0m 1\n"
     ]
    }
   ],
   "source": [
    "# API Route Definition\n",
    "@app.route('/api/data', methods=['GET', 'POST'])\n",
    "# Creating a function\n",
    "def data():\n",
    "    \n",
    "    collection = db['Annualized_Risk']\n",
    "\n",
    "    if request.method == 'GET':\n",
    "        # Implement GET to retrieve data from MongoDB\n",
    "        data = list(collection.find())\n",
    "        return jsonify(data)\n",
    "\n",
    "    if request.method == 'POST':\n",
    "        # Implement POST to insert data into MongoDB\n",
    "        new_data = request.json\n",
    "        collection.insert_one(new_data)\n",
    "        return jsonify({\"message\": \"Data added successfully\"})\n",
    "\n",
    "# Main Execution\n",
    "if __name__ == '__main__':\n",
    "    app.run(debug=True)\n"
   ]
  },
  {
   "cell_type": "code",
   "execution_count": null,
   "id": "0f15e51f",
   "metadata": {},
   "outputs": [],
   "source": []
  }
 ],
 "metadata": {
  "kernelspec": {
   "display_name": "Python 3 (ipykernel)",
   "language": "python",
   "name": "python3"
  },
  "language_info": {
   "codemirror_mode": {
    "name": "ipython",
    "version": 3
   },
   "file_extension": ".py",
   "mimetype": "text/x-python",
   "name": "python",
   "nbconvert_exporter": "python",
   "pygments_lexer": "ipython3",
   "version": "3.11.4"
  }
 },
 "nbformat": 4,
 "nbformat_minor": 5
}
